{
  "nbformat": 4,
  "nbformat_minor": 0,
  "metadata": {
    "colab": {
      "provenance": [],
      "authorship_tag": "ABX9TyMZdwMebVWTQs9J8/ZY9Ofr",
      "include_colab_link": true
    },
    "kernelspec": {
      "name": "python3",
      "display_name": "Python 3"
    },
    "language_info": {
      "name": "python"
    }
  },
  "cells": [
    {
      "cell_type": "markdown",
      "metadata": {
        "id": "view-in-github",
        "colab_type": "text"
      },
      "source": [
        "<a href=\"https://colab.research.google.com/github/GabrielSYS/tratamento_dados_Py/blob/main/Tratamento_dados_Rio.ipynb\" target=\"_parent\"><img src=\"https://colab.research.google.com/assets/colab-badge.svg\" alt=\"Open In Colab\"/></a>"
      ]
    },
    {
      "cell_type": "markdown",
      "source": [
        "#Importando Relacao_RISPxAISPxCISP = relacao_regiao"
      ],
      "metadata": {
        "id": "s7JccXaqQlwM"
      }
    },
    {
      "cell_type": "code",
      "source": [
        "#bibliotecas\n",
        "from matplotlib import pyplot as plt\n",
        "from matplotlib import rcParams\n",
        "import numpy as np\n",
        "import pandas as pd\n",
        "from pandas import Series, DataFrame"
      ],
      "metadata": {
        "id": "n3YohCEBqCqz"
      },
      "execution_count": 52,
      "outputs": []
    },
    {
      "cell_type": "code",
      "source": [
        "#estes comandos são para ambientes jupyter\n",
        "%matplotlib inline\n",
        "rcParams['figure','figsize'] = 5, 4\n",
        "sns.set_style['whitegrind']"
      ],
      "metadata": {
        "id": "A_HpNOYGoxdg"
      },
      "execution_count": null,
      "outputs": []
    },
    {
      "cell_type": "code",
      "execution_count": 1,
      "metadata": {
        "id": "uqnniY-TVmey",
        "colab": {
          "base_uri": "https://localhost:8080/"
        },
        "outputId": "9c745f61-515e-4d97-a4fd-3e752d6ba3b0"
      },
      "outputs": [
        {
          "output_type": "stream",
          "name": "stdout",
          "text": [
            "ISO-8859-1\n"
          ]
        }
      ],
      "source": [
        "import chardet\n",
        "\n",
        "with open('Relacao_RISPxAISPxCISP.csv', 'rb') as f:\n",
        "    result = chardet.detect(f.read())\n",
        "\n",
        "print(result['encoding'])"
      ]
    },
    {
      "cell_type": "code",
      "source": [
        "import csv\n",
        "\n",
        "with open('Relacao_RISPxAISPxCISP.csv', 'r', encoding=\"ISO-8859-1\") as f:\n",
        "    content = f.read()\n",
        "    dialect = csv.Sniffer().sniff(content)\n",
        "    delimiter = dialect.delimiter\n",
        "\n",
        "print(delimiter)\n"
      ],
      "metadata": {
        "colab": {
          "base_uri": "https://localhost:8080/"
        },
        "id": "dTSqmmDnYBjc",
        "outputId": "eba5529d-e5dd-44e0-aebe-7ee9e98d905e"
      },
      "execution_count": 2,
      "outputs": [
        {
          "output_type": "stream",
          "name": "stdout",
          "text": [
            ";\n"
          ]
        }
      ]
    },
    {
      "cell_type": "code",
      "source": [
        "\n",
        "relacao_regiao = pd.read_csv('Relacao_RISPxAISPxCISP.csv', encoding='ISO-8859-1', delimiter=';')\n",
        "relacao_regiao"
      ],
      "metadata": {
        "colab": {
          "base_uri": "https://localhost:8080/",
          "height": 424
        },
        "id": "Bo8BdyQSZb60",
        "outputId": "085b4d58-e522-4b34-e41e-0304ea3a9bcc"
      },
      "execution_count": 16,
      "outputs": [
        {
          "output_type": "execute_result",
          "data": {
            "text/plain": [
              "     RISP  AISP  CISP                                Unidade Territorial  \\\n",
              "0       1     2     9  Catete, Cosme Velho, Flamengo, Glória e Laranj...   \n",
              "1       1     2    10                           Botafogo, Humaitá e Urca   \n",
              "2       1     3    23  Cachambi, Méier (parte) e Todos os Santos (parte)   \n",
              "3       1     3    24  Abolição, Água Santa (parte), Encantado, Engen...   \n",
              "4       1     3    25  Engenho Novo, Jacaré, Jacarezinho, Riachuelo, ...   \n",
              "..    ...   ...   ...                                                ...   \n",
              "142     7    38   107  Paraíba do Sul, Werneck, Salutaris e Inconfidê...   \n",
              "143     7    38   108                                              Areal   \n",
              "144     7    38   108          Comendador Levy Gasparian e Afonso Arinos   \n",
              "145     7    38   108                               Três Rios e Bemposta   \n",
              "146     7    38   109  Sapucaia, Anta, Pião, Nossa Senhora Aparecida ...   \n",
              "\n",
              "                     Município      Região de Governo  \n",
              "0               Rio de Janeiro          Metropolitana  \n",
              "1               Rio de Janeiro          Metropolitana  \n",
              "2               Rio de Janeiro          Metropolitana  \n",
              "3               Rio de Janeiro          Metropolitana  \n",
              "4               Rio de Janeiro          Metropolitana  \n",
              "..                         ...                    ...  \n",
              "142             Paraíba do Sul  Centro-Sul Fluminense  \n",
              "143                      Areal  Centro-Sul Fluminense  \n",
              "144  Comendador Levy Gasparian  Centro-Sul Fluminense  \n",
              "145                  Três Rios  Centro-Sul Fluminense  \n",
              "146                   Sapucaia  Centro-Sul Fluminense  \n",
              "\n",
              "[147 rows x 6 columns]"
            ],
            "text/html": [
              "\n",
              "  <div id=\"df-7d097905-cee2-4e9b-b6a6-99a4e9d94d06\">\n",
              "    <div class=\"colab-df-container\">\n",
              "      <div>\n",
              "<style scoped>\n",
              "    .dataframe tbody tr th:only-of-type {\n",
              "        vertical-align: middle;\n",
              "    }\n",
              "\n",
              "    .dataframe tbody tr th {\n",
              "        vertical-align: top;\n",
              "    }\n",
              "\n",
              "    .dataframe thead th {\n",
              "        text-align: right;\n",
              "    }\n",
              "</style>\n",
              "<table border=\"1\" class=\"dataframe\">\n",
              "  <thead>\n",
              "    <tr style=\"text-align: right;\">\n",
              "      <th></th>\n",
              "      <th>RISP</th>\n",
              "      <th>AISP</th>\n",
              "      <th>CISP</th>\n",
              "      <th>Unidade Territorial</th>\n",
              "      <th>Município</th>\n",
              "      <th>Região de Governo</th>\n",
              "    </tr>\n",
              "  </thead>\n",
              "  <tbody>\n",
              "    <tr>\n",
              "      <th>0</th>\n",
              "      <td>1</td>\n",
              "      <td>2</td>\n",
              "      <td>9</td>\n",
              "      <td>Catete, Cosme Velho, Flamengo, Glória e Laranj...</td>\n",
              "      <td>Rio de Janeiro</td>\n",
              "      <td>Metropolitana</td>\n",
              "    </tr>\n",
              "    <tr>\n",
              "      <th>1</th>\n",
              "      <td>1</td>\n",
              "      <td>2</td>\n",
              "      <td>10</td>\n",
              "      <td>Botafogo, Humaitá e Urca</td>\n",
              "      <td>Rio de Janeiro</td>\n",
              "      <td>Metropolitana</td>\n",
              "    </tr>\n",
              "    <tr>\n",
              "      <th>2</th>\n",
              "      <td>1</td>\n",
              "      <td>3</td>\n",
              "      <td>23</td>\n",
              "      <td>Cachambi, Méier (parte) e Todos os Santos (parte)</td>\n",
              "      <td>Rio de Janeiro</td>\n",
              "      <td>Metropolitana</td>\n",
              "    </tr>\n",
              "    <tr>\n",
              "      <th>3</th>\n",
              "      <td>1</td>\n",
              "      <td>3</td>\n",
              "      <td>24</td>\n",
              "      <td>Abolição, Água Santa (parte), Encantado, Engen...</td>\n",
              "      <td>Rio de Janeiro</td>\n",
              "      <td>Metropolitana</td>\n",
              "    </tr>\n",
              "    <tr>\n",
              "      <th>4</th>\n",
              "      <td>1</td>\n",
              "      <td>3</td>\n",
              "      <td>25</td>\n",
              "      <td>Engenho Novo, Jacaré, Jacarezinho, Riachuelo, ...</td>\n",
              "      <td>Rio de Janeiro</td>\n",
              "      <td>Metropolitana</td>\n",
              "    </tr>\n",
              "    <tr>\n",
              "      <th>...</th>\n",
              "      <td>...</td>\n",
              "      <td>...</td>\n",
              "      <td>...</td>\n",
              "      <td>...</td>\n",
              "      <td>...</td>\n",
              "      <td>...</td>\n",
              "    </tr>\n",
              "    <tr>\n",
              "      <th>142</th>\n",
              "      <td>7</td>\n",
              "      <td>38</td>\n",
              "      <td>107</td>\n",
              "      <td>Paraíba do Sul, Werneck, Salutaris e Inconfidê...</td>\n",
              "      <td>Paraíba do Sul</td>\n",
              "      <td>Centro-Sul Fluminense</td>\n",
              "    </tr>\n",
              "    <tr>\n",
              "      <th>143</th>\n",
              "      <td>7</td>\n",
              "      <td>38</td>\n",
              "      <td>108</td>\n",
              "      <td>Areal</td>\n",
              "      <td>Areal</td>\n",
              "      <td>Centro-Sul Fluminense</td>\n",
              "    </tr>\n",
              "    <tr>\n",
              "      <th>144</th>\n",
              "      <td>7</td>\n",
              "      <td>38</td>\n",
              "      <td>108</td>\n",
              "      <td>Comendador Levy Gasparian e Afonso Arinos</td>\n",
              "      <td>Comendador Levy Gasparian</td>\n",
              "      <td>Centro-Sul Fluminense</td>\n",
              "    </tr>\n",
              "    <tr>\n",
              "      <th>145</th>\n",
              "      <td>7</td>\n",
              "      <td>38</td>\n",
              "      <td>108</td>\n",
              "      <td>Três Rios e Bemposta</td>\n",
              "      <td>Três Rios</td>\n",
              "      <td>Centro-Sul Fluminense</td>\n",
              "    </tr>\n",
              "    <tr>\n",
              "      <th>146</th>\n",
              "      <td>7</td>\n",
              "      <td>38</td>\n",
              "      <td>109</td>\n",
              "      <td>Sapucaia, Anta, Pião, Nossa Senhora Aparecida ...</td>\n",
              "      <td>Sapucaia</td>\n",
              "      <td>Centro-Sul Fluminense</td>\n",
              "    </tr>\n",
              "  </tbody>\n",
              "</table>\n",
              "<p>147 rows × 6 columns</p>\n",
              "</div>\n",
              "      <button class=\"colab-df-convert\" onclick=\"convertToInteractive('df-7d097905-cee2-4e9b-b6a6-99a4e9d94d06')\"\n",
              "              title=\"Convert this dataframe to an interactive table.\"\n",
              "              style=\"display:none;\">\n",
              "        \n",
              "  <svg xmlns=\"http://www.w3.org/2000/svg\" height=\"24px\"viewBox=\"0 0 24 24\"\n",
              "       width=\"24px\">\n",
              "    <path d=\"M0 0h24v24H0V0z\" fill=\"none\"/>\n",
              "    <path d=\"M18.56 5.44l.94 2.06.94-2.06 2.06-.94-2.06-.94-.94-2.06-.94 2.06-2.06.94zm-11 1L8.5 8.5l.94-2.06 2.06-.94-2.06-.94L8.5 2.5l-.94 2.06-2.06.94zm10 10l.94 2.06.94-2.06 2.06-.94-2.06-.94-.94-2.06-.94 2.06-2.06.94z\"/><path d=\"M17.41 7.96l-1.37-1.37c-.4-.4-.92-.59-1.43-.59-.52 0-1.04.2-1.43.59L10.3 9.45l-7.72 7.72c-.78.78-.78 2.05 0 2.83L4 21.41c.39.39.9.59 1.41.59.51 0 1.02-.2 1.41-.59l7.78-7.78 2.81-2.81c.8-.78.8-2.07 0-2.86zM5.41 20L4 18.59l7.72-7.72 1.47 1.35L5.41 20z\"/>\n",
              "  </svg>\n",
              "      </button>\n",
              "      \n",
              "  <style>\n",
              "    .colab-df-container {\n",
              "      display:flex;\n",
              "      flex-wrap:wrap;\n",
              "      gap: 12px;\n",
              "    }\n",
              "\n",
              "    .colab-df-convert {\n",
              "      background-color: #E8F0FE;\n",
              "      border: none;\n",
              "      border-radius: 50%;\n",
              "      cursor: pointer;\n",
              "      display: none;\n",
              "      fill: #1967D2;\n",
              "      height: 32px;\n",
              "      padding: 0 0 0 0;\n",
              "      width: 32px;\n",
              "    }\n",
              "\n",
              "    .colab-df-convert:hover {\n",
              "      background-color: #E2EBFA;\n",
              "      box-shadow: 0px 1px 2px rgba(60, 64, 67, 0.3), 0px 1px 3px 1px rgba(60, 64, 67, 0.15);\n",
              "      fill: #174EA6;\n",
              "    }\n",
              "\n",
              "    [theme=dark] .colab-df-convert {\n",
              "      background-color: #3B4455;\n",
              "      fill: #D2E3FC;\n",
              "    }\n",
              "\n",
              "    [theme=dark] .colab-df-convert:hover {\n",
              "      background-color: #434B5C;\n",
              "      box-shadow: 0px 1px 3px 1px rgba(0, 0, 0, 0.15);\n",
              "      filter: drop-shadow(0px 1px 2px rgba(0, 0, 0, 0.3));\n",
              "      fill: #FFFFFF;\n",
              "    }\n",
              "  </style>\n",
              "\n",
              "      <script>\n",
              "        const buttonEl =\n",
              "          document.querySelector('#df-7d097905-cee2-4e9b-b6a6-99a4e9d94d06 button.colab-df-convert');\n",
              "        buttonEl.style.display =\n",
              "          google.colab.kernel.accessAllowed ? 'block' : 'none';\n",
              "\n",
              "        async function convertToInteractive(key) {\n",
              "          const element = document.querySelector('#df-7d097905-cee2-4e9b-b6a6-99a4e9d94d06');\n",
              "          const dataTable =\n",
              "            await google.colab.kernel.invokeFunction('convertToInteractive',\n",
              "                                                     [key], {});\n",
              "          if (!dataTable) return;\n",
              "\n",
              "          const docLinkHtml = 'Like what you see? Visit the ' +\n",
              "            '<a target=\"_blank\" href=https://colab.research.google.com/notebooks/data_table.ipynb>data table notebook</a>'\n",
              "            + ' to learn more about interactive tables.';\n",
              "          element.innerHTML = '';\n",
              "          dataTable['output_type'] = 'display_data';\n",
              "          await google.colab.output.renderOutput(dataTable, element);\n",
              "          const docLink = document.createElement('div');\n",
              "          docLink.innerHTML = docLinkHtml;\n",
              "          element.appendChild(docLink);\n",
              "        }\n",
              "      </script>\n",
              "    </div>\n",
              "  </div>\n",
              "  "
            ]
          },
          "metadata": {},
          "execution_count": 16
        }
      ]
    },
    {
      "cell_type": "markdown",
      "source": [
        "#importando EstatisticasSegurançaMensal1991 = estatistica_mensal"
      ],
      "metadata": {
        "id": "OSEC39MzQv3J"
      }
    },
    {
      "cell_type": "code",
      "source": [
        "with open('EstatisticasSegurançaMensal1991.csv', 'rb') as f:\n",
        "    result = chardet.detect(f.read())\n",
        "\n",
        "print(result['encoding'])"
      ],
      "metadata": {
        "colab": {
          "base_uri": "https://localhost:8080/"
        },
        "id": "L0PYdHprPzXM",
        "outputId": "ca607af8-f811-4c1e-dc4a-3449159df7b0"
      },
      "execution_count": 5,
      "outputs": [
        {
          "output_type": "stream",
          "name": "stdout",
          "text": [
            "ascii\n"
          ]
        }
      ]
    },
    {
      "cell_type": "code",
      "source": [
        "with open('EstatisticasSegurançaMensal1991.csv', 'r', encoding=\"ascii\") as f:\n",
        "    content = f.read()\n",
        "    dialect = csv.Sniffer().sniff(content)\n",
        "    delimiter = dialect.delimiter\n",
        "\n",
        "print(delimiter)"
      ],
      "metadata": {
        "colab": {
          "base_uri": "https://localhost:8080/"
        },
        "id": "Pfx2CS69P6PD",
        "outputId": "64f953a7-9545-409f-afc1-97cda1a2abef"
      },
      "execution_count": 6,
      "outputs": [
        {
          "output_type": "stream",
          "name": "stdout",
          "text": [
            ";\n"
          ]
        }
      ]
    },
    {
      "cell_type": "code",
      "source": [
        "estatistica_mensal = pd.read_csv('EstatisticasSegurançaMensal1991.csv', encoding='ISO-8859-1', delimiter=';')\n",
        "estatistica_mensal"
      ],
      "metadata": {
        "colab": {
          "base_uri": "https://localhost:8080/",
          "height": 689
        },
        "id": "6pFROKOJQEpd",
        "outputId": "f9978f1e-1191-455c-ac62-b6a1846a617e"
      },
      "execution_count": 17,
      "outputs": [
        {
          "output_type": "execute_result",
          "data": {
            "text/plain": [
              "      ano  mes  hom_doloso lesao_corp_morte  latrocinio cvli  \\\n",
              "0    1991    1         657                           15        \n",
              "1    1991    2         732                           17        \n",
              "2    1991    3         713                           25        \n",
              "3    1991    4         634                           20        \n",
              "4    1991    5         650                           20        \n",
              "..    ...  ...         ...              ...         ...  ...   \n",
              "383  2022   12         247                1           3  251   \n",
              "384  2023    1         252                3           6  261   \n",
              "385  2023    2         301                4           4  309   \n",
              "386  2023    3         342                5           7  354   \n",
              "387  2023    4         278                5           6  289   \n",
              "\n",
              "    hom_por_interv_policial  letalidade_violenta  tentat_hom  \\\n",
              "0                                            672         162   \n",
              "1                                            749         175   \n",
              "2                                            738         216   \n",
              "3                                            654         200   \n",
              "4                                            670         146   \n",
              "..                      ...                  ...         ...   \n",
              "383                      98                  349         280   \n",
              "384                     102                  363         317   \n",
              "385                      96                  405         297   \n",
              "386                     122                  476         352   \n",
              "387                      90                  379         275   \n",
              "\n",
              "     lesao_corp_dolosa  ...   cmp cmba ameaca  pessoas_desaparecidas  \\\n",
              "0                 3051  ...                                            \n",
              "1                 3421  ...                                            \n",
              "2                 3613  ...                                            \n",
              "3                 3211  ...                                            \n",
              "4                 3051  ...                                            \n",
              "..                 ...  ...   ...  ...    ...                    ...   \n",
              "383               5081  ...   747   89   4761                    475   \n",
              "384               5091  ...   843   60   5172                    501   \n",
              "385               5487  ...   864   92   5039                    521   \n",
              "386               5663  ...  1234  126   6246                    563   \n",
              "387               4855  ...   896  102   5569                    460   \n",
              "\n",
              "    encontro_cadaver  encontro_ossada  pol_militares_mortos_serv  \\\n",
              "0                217                                               \n",
              "1                209                                               \n",
              "2                188                                               \n",
              "3                140                                               \n",
              "4                 78                                               \n",
              "..               ...              ...                        ...   \n",
              "383               29                2                          2   \n",
              "384               39                0                          0   \n",
              "385               31                3                          2   \n",
              "386               31                4                          2   \n",
              "387               26                1                          2   \n",
              "\n",
              "     pol_civis_mortos_serv  registro_ocorrencias  fase  \n",
              "0                                                    3  \n",
              "1                                                    3  \n",
              "2                                                    3  \n",
              "3                                                    3  \n",
              "4                                                    3  \n",
              "..                     ...                   ...   ...  \n",
              "383                      0                 65435     3  \n",
              "384                      0                 67884     2  \n",
              "385                      0                 63730     2  \n",
              "386                      0                 74212     2  \n",
              "387                      0                 64184     2  \n",
              "\n",
              "[388 rows x 56 columns]"
            ],
            "text/html": [
              "\n",
              "  <div id=\"df-09c483e6-6561-4add-a88d-62798c4f3088\">\n",
              "    <div class=\"colab-df-container\">\n",
              "      <div>\n",
              "<style scoped>\n",
              "    .dataframe tbody tr th:only-of-type {\n",
              "        vertical-align: middle;\n",
              "    }\n",
              "\n",
              "    .dataframe tbody tr th {\n",
              "        vertical-align: top;\n",
              "    }\n",
              "\n",
              "    .dataframe thead th {\n",
              "        text-align: right;\n",
              "    }\n",
              "</style>\n",
              "<table border=\"1\" class=\"dataframe\">\n",
              "  <thead>\n",
              "    <tr style=\"text-align: right;\">\n",
              "      <th></th>\n",
              "      <th>ano</th>\n",
              "      <th>mes</th>\n",
              "      <th>hom_doloso</th>\n",
              "      <th>lesao_corp_morte</th>\n",
              "      <th>latrocinio</th>\n",
              "      <th>cvli</th>\n",
              "      <th>hom_por_interv_policial</th>\n",
              "      <th>letalidade_violenta</th>\n",
              "      <th>tentat_hom</th>\n",
              "      <th>lesao_corp_dolosa</th>\n",
              "      <th>...</th>\n",
              "      <th>cmp</th>\n",
              "      <th>cmba</th>\n",
              "      <th>ameaca</th>\n",
              "      <th>pessoas_desaparecidas</th>\n",
              "      <th>encontro_cadaver</th>\n",
              "      <th>encontro_ossada</th>\n",
              "      <th>pol_militares_mortos_serv</th>\n",
              "      <th>pol_civis_mortos_serv</th>\n",
              "      <th>registro_ocorrencias</th>\n",
              "      <th>fase</th>\n",
              "    </tr>\n",
              "  </thead>\n",
              "  <tbody>\n",
              "    <tr>\n",
              "      <th>0</th>\n",
              "      <td>1991</td>\n",
              "      <td>1</td>\n",
              "      <td>657</td>\n",
              "      <td></td>\n",
              "      <td>15</td>\n",
              "      <td></td>\n",
              "      <td></td>\n",
              "      <td>672</td>\n",
              "      <td>162</td>\n",
              "      <td>3051</td>\n",
              "      <td>...</td>\n",
              "      <td></td>\n",
              "      <td></td>\n",
              "      <td></td>\n",
              "      <td></td>\n",
              "      <td>217</td>\n",
              "      <td></td>\n",
              "      <td></td>\n",
              "      <td></td>\n",
              "      <td></td>\n",
              "      <td>3</td>\n",
              "    </tr>\n",
              "    <tr>\n",
              "      <th>1</th>\n",
              "      <td>1991</td>\n",
              "      <td>2</td>\n",
              "      <td>732</td>\n",
              "      <td></td>\n",
              "      <td>17</td>\n",
              "      <td></td>\n",
              "      <td></td>\n",
              "      <td>749</td>\n",
              "      <td>175</td>\n",
              "      <td>3421</td>\n",
              "      <td>...</td>\n",
              "      <td></td>\n",
              "      <td></td>\n",
              "      <td></td>\n",
              "      <td></td>\n",
              "      <td>209</td>\n",
              "      <td></td>\n",
              "      <td></td>\n",
              "      <td></td>\n",
              "      <td></td>\n",
              "      <td>3</td>\n",
              "    </tr>\n",
              "    <tr>\n",
              "      <th>2</th>\n",
              "      <td>1991</td>\n",
              "      <td>3</td>\n",
              "      <td>713</td>\n",
              "      <td></td>\n",
              "      <td>25</td>\n",
              "      <td></td>\n",
              "      <td></td>\n",
              "      <td>738</td>\n",
              "      <td>216</td>\n",
              "      <td>3613</td>\n",
              "      <td>...</td>\n",
              "      <td></td>\n",
              "      <td></td>\n",
              "      <td></td>\n",
              "      <td></td>\n",
              "      <td>188</td>\n",
              "      <td></td>\n",
              "      <td></td>\n",
              "      <td></td>\n",
              "      <td></td>\n",
              "      <td>3</td>\n",
              "    </tr>\n",
              "    <tr>\n",
              "      <th>3</th>\n",
              "      <td>1991</td>\n",
              "      <td>4</td>\n",
              "      <td>634</td>\n",
              "      <td></td>\n",
              "      <td>20</td>\n",
              "      <td></td>\n",
              "      <td></td>\n",
              "      <td>654</td>\n",
              "      <td>200</td>\n",
              "      <td>3211</td>\n",
              "      <td>...</td>\n",
              "      <td></td>\n",
              "      <td></td>\n",
              "      <td></td>\n",
              "      <td></td>\n",
              "      <td>140</td>\n",
              "      <td></td>\n",
              "      <td></td>\n",
              "      <td></td>\n",
              "      <td></td>\n",
              "      <td>3</td>\n",
              "    </tr>\n",
              "    <tr>\n",
              "      <th>4</th>\n",
              "      <td>1991</td>\n",
              "      <td>5</td>\n",
              "      <td>650</td>\n",
              "      <td></td>\n",
              "      <td>20</td>\n",
              "      <td></td>\n",
              "      <td></td>\n",
              "      <td>670</td>\n",
              "      <td>146</td>\n",
              "      <td>3051</td>\n",
              "      <td>...</td>\n",
              "      <td></td>\n",
              "      <td></td>\n",
              "      <td></td>\n",
              "      <td></td>\n",
              "      <td>78</td>\n",
              "      <td></td>\n",
              "      <td></td>\n",
              "      <td></td>\n",
              "      <td></td>\n",
              "      <td>3</td>\n",
              "    </tr>\n",
              "    <tr>\n",
              "      <th>...</th>\n",
              "      <td>...</td>\n",
              "      <td>...</td>\n",
              "      <td>...</td>\n",
              "      <td>...</td>\n",
              "      <td>...</td>\n",
              "      <td>...</td>\n",
              "      <td>...</td>\n",
              "      <td>...</td>\n",
              "      <td>...</td>\n",
              "      <td>...</td>\n",
              "      <td>...</td>\n",
              "      <td>...</td>\n",
              "      <td>...</td>\n",
              "      <td>...</td>\n",
              "      <td>...</td>\n",
              "      <td>...</td>\n",
              "      <td>...</td>\n",
              "      <td>...</td>\n",
              "      <td>...</td>\n",
              "      <td>...</td>\n",
              "      <td>...</td>\n",
              "    </tr>\n",
              "    <tr>\n",
              "      <th>383</th>\n",
              "      <td>2022</td>\n",
              "      <td>12</td>\n",
              "      <td>247</td>\n",
              "      <td>1</td>\n",
              "      <td>3</td>\n",
              "      <td>251</td>\n",
              "      <td>98</td>\n",
              "      <td>349</td>\n",
              "      <td>280</td>\n",
              "      <td>5081</td>\n",
              "      <td>...</td>\n",
              "      <td>747</td>\n",
              "      <td>89</td>\n",
              "      <td>4761</td>\n",
              "      <td>475</td>\n",
              "      <td>29</td>\n",
              "      <td>2</td>\n",
              "      <td>2</td>\n",
              "      <td>0</td>\n",
              "      <td>65435</td>\n",
              "      <td>3</td>\n",
              "    </tr>\n",
              "    <tr>\n",
              "      <th>384</th>\n",
              "      <td>2023</td>\n",
              "      <td>1</td>\n",
              "      <td>252</td>\n",
              "      <td>3</td>\n",
              "      <td>6</td>\n",
              "      <td>261</td>\n",
              "      <td>102</td>\n",
              "      <td>363</td>\n",
              "      <td>317</td>\n",
              "      <td>5091</td>\n",
              "      <td>...</td>\n",
              "      <td>843</td>\n",
              "      <td>60</td>\n",
              "      <td>5172</td>\n",
              "      <td>501</td>\n",
              "      <td>39</td>\n",
              "      <td>0</td>\n",
              "      <td>0</td>\n",
              "      <td>0</td>\n",
              "      <td>67884</td>\n",
              "      <td>2</td>\n",
              "    </tr>\n",
              "    <tr>\n",
              "      <th>385</th>\n",
              "      <td>2023</td>\n",
              "      <td>2</td>\n",
              "      <td>301</td>\n",
              "      <td>4</td>\n",
              "      <td>4</td>\n",
              "      <td>309</td>\n",
              "      <td>96</td>\n",
              "      <td>405</td>\n",
              "      <td>297</td>\n",
              "      <td>5487</td>\n",
              "      <td>...</td>\n",
              "      <td>864</td>\n",
              "      <td>92</td>\n",
              "      <td>5039</td>\n",
              "      <td>521</td>\n",
              "      <td>31</td>\n",
              "      <td>3</td>\n",
              "      <td>2</td>\n",
              "      <td>0</td>\n",
              "      <td>63730</td>\n",
              "      <td>2</td>\n",
              "    </tr>\n",
              "    <tr>\n",
              "      <th>386</th>\n",
              "      <td>2023</td>\n",
              "      <td>3</td>\n",
              "      <td>342</td>\n",
              "      <td>5</td>\n",
              "      <td>7</td>\n",
              "      <td>354</td>\n",
              "      <td>122</td>\n",
              "      <td>476</td>\n",
              "      <td>352</td>\n",
              "      <td>5663</td>\n",
              "      <td>...</td>\n",
              "      <td>1234</td>\n",
              "      <td>126</td>\n",
              "      <td>6246</td>\n",
              "      <td>563</td>\n",
              "      <td>31</td>\n",
              "      <td>4</td>\n",
              "      <td>2</td>\n",
              "      <td>0</td>\n",
              "      <td>74212</td>\n",
              "      <td>2</td>\n",
              "    </tr>\n",
              "    <tr>\n",
              "      <th>387</th>\n",
              "      <td>2023</td>\n",
              "      <td>4</td>\n",
              "      <td>278</td>\n",
              "      <td>5</td>\n",
              "      <td>6</td>\n",
              "      <td>289</td>\n",
              "      <td>90</td>\n",
              "      <td>379</td>\n",
              "      <td>275</td>\n",
              "      <td>4855</td>\n",
              "      <td>...</td>\n",
              "      <td>896</td>\n",
              "      <td>102</td>\n",
              "      <td>5569</td>\n",
              "      <td>460</td>\n",
              "      <td>26</td>\n",
              "      <td>1</td>\n",
              "      <td>2</td>\n",
              "      <td>0</td>\n",
              "      <td>64184</td>\n",
              "      <td>2</td>\n",
              "    </tr>\n",
              "  </tbody>\n",
              "</table>\n",
              "<p>388 rows × 56 columns</p>\n",
              "</div>\n",
              "      <button class=\"colab-df-convert\" onclick=\"convertToInteractive('df-09c483e6-6561-4add-a88d-62798c4f3088')\"\n",
              "              title=\"Convert this dataframe to an interactive table.\"\n",
              "              style=\"display:none;\">\n",
              "        \n",
              "  <svg xmlns=\"http://www.w3.org/2000/svg\" height=\"24px\"viewBox=\"0 0 24 24\"\n",
              "       width=\"24px\">\n",
              "    <path d=\"M0 0h24v24H0V0z\" fill=\"none\"/>\n",
              "    <path d=\"M18.56 5.44l.94 2.06.94-2.06 2.06-.94-2.06-.94-.94-2.06-.94 2.06-2.06.94zm-11 1L8.5 8.5l.94-2.06 2.06-.94-2.06-.94L8.5 2.5l-.94 2.06-2.06.94zm10 10l.94 2.06.94-2.06 2.06-.94-2.06-.94-.94-2.06-.94 2.06-2.06.94z\"/><path d=\"M17.41 7.96l-1.37-1.37c-.4-.4-.92-.59-1.43-.59-.52 0-1.04.2-1.43.59L10.3 9.45l-7.72 7.72c-.78.78-.78 2.05 0 2.83L4 21.41c.39.39.9.59 1.41.59.51 0 1.02-.2 1.41-.59l7.78-7.78 2.81-2.81c.8-.78.8-2.07 0-2.86zM5.41 20L4 18.59l7.72-7.72 1.47 1.35L5.41 20z\"/>\n",
              "  </svg>\n",
              "      </button>\n",
              "      \n",
              "  <style>\n",
              "    .colab-df-container {\n",
              "      display:flex;\n",
              "      flex-wrap:wrap;\n",
              "      gap: 12px;\n",
              "    }\n",
              "\n",
              "    .colab-df-convert {\n",
              "      background-color: #E8F0FE;\n",
              "      border: none;\n",
              "      border-radius: 50%;\n",
              "      cursor: pointer;\n",
              "      display: none;\n",
              "      fill: #1967D2;\n",
              "      height: 32px;\n",
              "      padding: 0 0 0 0;\n",
              "      width: 32px;\n",
              "    }\n",
              "\n",
              "    .colab-df-convert:hover {\n",
              "      background-color: #E2EBFA;\n",
              "      box-shadow: 0px 1px 2px rgba(60, 64, 67, 0.3), 0px 1px 3px 1px rgba(60, 64, 67, 0.15);\n",
              "      fill: #174EA6;\n",
              "    }\n",
              "\n",
              "    [theme=dark] .colab-df-convert {\n",
              "      background-color: #3B4455;\n",
              "      fill: #D2E3FC;\n",
              "    }\n",
              "\n",
              "    [theme=dark] .colab-df-convert:hover {\n",
              "      background-color: #434B5C;\n",
              "      box-shadow: 0px 1px 3px 1px rgba(0, 0, 0, 0.15);\n",
              "      filter: drop-shadow(0px 1px 2px rgba(0, 0, 0, 0.3));\n",
              "      fill: #FFFFFF;\n",
              "    }\n",
              "  </style>\n",
              "\n",
              "      <script>\n",
              "        const buttonEl =\n",
              "          document.querySelector('#df-09c483e6-6561-4add-a88d-62798c4f3088 button.colab-df-convert');\n",
              "        buttonEl.style.display =\n",
              "          google.colab.kernel.accessAllowed ? 'block' : 'none';\n",
              "\n",
              "        async function convertToInteractive(key) {\n",
              "          const element = document.querySelector('#df-09c483e6-6561-4add-a88d-62798c4f3088');\n",
              "          const dataTable =\n",
              "            await google.colab.kernel.invokeFunction('convertToInteractive',\n",
              "                                                     [key], {});\n",
              "          if (!dataTable) return;\n",
              "\n",
              "          const docLinkHtml = 'Like what you see? Visit the ' +\n",
              "            '<a target=\"_blank\" href=https://colab.research.google.com/notebooks/data_table.ipynb>data table notebook</a>'\n",
              "            + ' to learn more about interactive tables.';\n",
              "          element.innerHTML = '';\n",
              "          dataTable['output_type'] = 'display_data';\n",
              "          await google.colab.output.renderOutput(dataTable, element);\n",
              "          const docLink = document.createElement('div');\n",
              "          docLink.innerHTML = docLinkHtml;\n",
              "          element.appendChild(docLink);\n",
              "        }\n",
              "      </script>\n",
              "    </div>\n",
              "  </div>\n",
              "  "
            ]
          },
          "metadata": {},
          "execution_count": 17
        },
        {
          "output_type": "stream",
          "name": "stdout",
          "text": [
            "Warning: Total number of columns (56) exceeds max_columns (20) limiting to first (20) columns.\n"
          ]
        }
      ]
    },
    {
      "cell_type": "markdown",
      "source": [
        "#Analise de daddos"
      ],
      "metadata": {
        "id": "OyPOPlWbqQlt"
      }
    },
    {
      "cell_type": "code",
      "source": [
        "print(estatistica_mensal.columns)"
      ],
      "metadata": {
        "colab": {
          "base_uri": "https://localhost:8080/"
        },
        "id": "Ts3aA8xyT0T8",
        "outputId": "14a8b43a-031e-4fa4-9f66-617a5022cdf4"
      },
      "execution_count": 27,
      "outputs": [
        {
          "output_type": "stream",
          "name": "stdout",
          "text": [
            "Index(['ano', 'mes', 'hom_doloso', 'lesao_corp_morte', 'latrocinio', 'cvli',\n",
            "       'hom_por_interv_policial', 'letalidade_violenta', 'tentat_hom',\n",
            "       'lesao_corp_dolosa', 'estupro', 'hom_culposo', 'lesao_corp_culposa',\n",
            "       'roubo_transeunte', 'roubo_celular', 'roubo_em_coletivo', 'roubo_rua',\n",
            "       'roubo_veiculo', 'roubo_carga', 'roubo_comercio', 'roubo_residencia',\n",
            "       'roubo_banco', 'roubo_cx_eletronico', 'roubo_conducao_saque',\n",
            "       'roubo_apos_saque', 'roubo_bicicleta', 'outros_roubos', 'total_roubos',\n",
            "       'furto_veiculos', 'furto_transeunte', 'furto_coletivo', 'furto_celular',\n",
            "       'furto_bicicleta', 'outros_furtos', 'total_furtos', 'sequestro',\n",
            "       'extorsao', 'sequestro_relampago', 'estelionato', 'apreensao_drogas',\n",
            "       'posse_drogas', 'trafico_drogas', 'apreensao_drogas_sem_autor',\n",
            "       'recuperacao_veiculos', 'apf', 'aaapai', 'cmp', 'cmba', 'ameaca',\n",
            "       'pessoas_desaparecidas', 'encontro_cadaver', 'encontro_ossada',\n",
            "       'pol_militares_mortos_serv', 'pol_civis_mortos_serv',\n",
            "       'registro_ocorrencias', 'fase', 'EstatisticasSegurançaMensal1991'],\n",
            "      dtype='object')\n"
          ]
        }
      ]
    },
    {
      "cell_type": "code",
      "source": [
        "#print(estatistica_mensal['lesao_corp_morte'])\n",
        "vazio = estatistica_mensal['lesao_corp_morte'].isnull()\n",
        "print(vazio)"
      ],
      "metadata": {
        "colab": {
          "base_uri": "https://localhost:8080/"
        },
        "id": "v296fw6drw2U",
        "outputId": "37156233-085c-4365-e5ce-ad7185f9a22b"
      },
      "execution_count": 68,
      "outputs": [
        {
          "output_type": "stream",
          "name": "stdout",
          "text": [
            "<bound method Series.isnull of 0       \n",
            "1       \n",
            "2       \n",
            "3       \n",
            "4       \n",
            "      ..\n",
            "383    1\n",
            "384    3\n",
            "385    4\n",
            "386    5\n",
            "387    5\n",
            "Name: lesao_corp_morte, Length: 388, dtype: object>\n"
          ]
        }
      ]
    },
    {
      "cell_type": "code",
      "source": [
        "estatistica_mensal.isna()"
      ],
      "metadata": {
        "id": "fNJeg59PVFYV"
      },
      "execution_count": null,
      "outputs": []
    },
    {
      "cell_type": "code",
      "source": [
        "print(estatistica_mensal['ano'].dtype)\n"
      ],
      "metadata": {
        "colab": {
          "base_uri": "https://localhost:8080/"
        },
        "id": "KxpnPMGyfPds",
        "outputId": "9093f8d4-5e80-45bb-8d30-0555698ce1cf"
      },
      "execution_count": 46,
      "outputs": [
        {
          "output_type": "stream",
          "name": "stdout",
          "text": [
            "int64\n"
          ]
        }
      ]
    },
    {
      "cell_type": "code",
      "source": [
        "x = estatistica_mensal['latrocinio']\n",
        "y = estatistica_mensal['ano']"
      ],
      "metadata": {
        "id": "mvVxRLJTv950"
      },
      "execution_count": 83,
      "outputs": []
    },
    {
      "cell_type": "code",
      "source": [
        "plt.plot(y,x)"
      ],
      "metadata": {
        "colab": {
          "base_uri": "https://localhost:8080/",
          "height": 447
        },
        "id": "YaKfvq-PwbYz",
        "outputId": "7c0375ce-629e-4c19-c3a7-ab1ffa55f6db"
      },
      "execution_count": 84,
      "outputs": [
        {
          "output_type": "execute_result",
          "data": {
            "text/plain": [
              "[<matplotlib.lines.Line2D at 0x7f924814d810>]"
            ]
          },
          "metadata": {},
          "execution_count": 84
        },
        {
          "output_type": "display_data",
          "data": {
            "text/plain": [
              "<Figure size 640x480 with 1 Axes>"
            ],
            "image/png": "[encoded data removed]"
          },
          "metadata": {}
        }
      ]
    },
    {
      "cell_type": "code",
      "source": [
        "import matplotlib.pyplot as plt\n",
        "\n",
        "# Selecionar as colunas 'ano', 'mes' e 'latrocinio'\n",
        "data = estatistica_mensal[['ano', 'mes', 'latrocinio']]\n",
        "\n",
        "# Criar uma coluna combinada 'ano_mes' com os valores de 'ano' e 'mes'\n",
        "data['ano_mes'] = data['ano'].astype(str) + '-' + data['mes'].astype(str)\n",
        "\n",
        "# Criar o gráfico\n",
        "plt.plot(data['ano_mes'], data['latrocinio'], marker='o')\n",
        "\n",
        "# Configurar os rótulos do eixo x e y, e o título do gráfico\n",
        "plt.xlabel('Ano-Mês')\n",
        "plt.ylabel('Latrocínio')\n",
        "plt.title('Latrocínio em relação aos meses e anos')\n",
        "\n",
        "# Girar os rótulos do eixo x em 45 graus para melhor legibilidade\n",
        "plt.xticks(rotation=45)\n",
        "\n",
        "# Ajustar o tamanho da figura\n",
        "plt.figure(figsize=(12, 6))\n",
        "\n",
        "# Exibir o gráfico\n",
        "plt.show()\n"
      ],
      "metadata": {
        "colab": {
          "base_uri": "https://localhost:8080/",
          "height": 631
        },
        "id": "3sZUkA9110V7",
        "outputId": "d176cddf-a9fe-41b2-c262-d64d9d44cf12"
      },
      "execution_count": 87,
      "outputs": [
        {
          "output_type": "stream",
          "name": "stderr",
          "text": [
            "<ipython-input-87-886d81a40ae7>:7: SettingWithCopyWarning: \n",
            "A value is trying to be set on a copy of a slice from a DataFrame.\n",
            "Try using .loc[row_indexer,col_indexer] = value instead\n",
            "\n",
            "See the caveats in the documentation: https://pandas.pydata.org/pandas-docs/stable/user_guide/indexing.html#returning-a-view-versus-a-copy\n",
            "  data['ano_mes'] = data['ano'].astype(str) + '-' + data['mes'].astype(str)\n"
          ]
        },
        {
          "output_type": "display_data",
          "data": {
            "text/plain": [
              "<Figure size 640x480 with 1 Axes>"
            ],
            "image/png": "[encoded data removed]"
          },
          "metadata": {}
        },
        {
          "output_type": "display_data",
          "data": {
            "text/plain": [
              "<Figure size 1200x600 with 0 Axes>"
            ]
          },
          "metadata": {}
        }
      ]
    },
    {
      "cell_type": "code",
      "source": [
        "import matplotlib.pyplot as plt\n",
        "\n",
        "# Selecionar as colunas 'ano', 'mes' e 'latrocinio'\n",
        "data = estatistica_mensal[['ano', 'mes', 'latrocinio']]\n",
        "\n",
        "# Limitar as linhas de 'ano' e 'mes' para as linhas 0 até 11\n",
        "data = data.iloc[0:12, :]\n",
        "\n",
        "# Criar uma coluna combinada 'ano_mes' com os valores de 'ano' e 'mes'\n",
        "data['ano_mes'] = data['ano'].astype(str) + '-' + data['mes'].astype(str)\n",
        "\n",
        "# Criar o gráfico\n",
        "plt.plot(data['ano_mes'], data['latrocinio'], marker='o')\n",
        "\n",
        "# Configurar os rótulos do eixo x e y, e o título do gráfico\n",
        "plt.xlabel('Ano-Mês')\n",
        "plt.ylabel('Latrocínio')\n",
        "plt.title('Latrocínio em relação aos meses e anos')\n",
        "\n",
        "# Girar os rótulos do eixo x em 45 graus para melhor legibilidade\n",
        "plt.xticks(rotation=45)\n",
        "\n",
        "# Ajustar o tamanho da figura\n",
        "plt.figure(figsize=(12, 6))\n",
        "\n",
        "# Exibir o gráfico\n",
        "plt.show()\n",
        "\n"
      ],
      "metadata": {
        "colab": {
          "base_uri": "https://localhost:8080/",
          "height": 526
        },
        "id": "yM3U2JoPynZ3",
        "outputId": "49b49526-1259-49f8-cac0-382cad941107"
      },
      "execution_count": 86,
      "outputs": [
        {
          "output_type": "display_data",
          "data": {
            "text/plain": [
              "<Figure size 640x480 with 1 Axes>"
            ],
            "image/png": "[encoded data removed]"
          },
          "metadata": {}
        },
        {
          "output_type": "display_data",
          "data": {
            "text/plain": [
              "<Figure size 1200x600 with 0 Axes>"
            ]
          },
          "metadata": {}
        }
      ]
    }
  ]
}